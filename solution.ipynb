{
 "cells": [
  {
   "cell_type": "code",
   "execution_count": 418,
   "metadata": {
    "collapsed": false
   },
   "outputs": [],
   "source": [
    "import numpy as np\n",
    "import time as dt\n",
    "import matplotlib.pyplot as plt"
   ]
  },
  {
   "cell_type": "code",
   "execution_count": 413,
   "metadata": {
    "collapsed": true
   },
   "outputs": [],
   "source": [
    "def conver_time(timestr):\n",
    "    timestr = timestr.decode(\"utf-8\") \n",
    "    ts,ms = timestr.split('.')\n",
    "    timest = dt.strptime(ts, '%Y-%m-%d %H:%M:%S')\n",
    "    return int(1000*dt.mktime(timest) + int(ms))#+10800)+int(ms))\n",
    "vconv_time = np.vectorize(conver_time)"
   ]
  },
  {
   "cell_type": "code",
   "execution_count": 414,
   "metadata": {
    "collapsed": true
   },
   "outputs": [],
   "source": [
    "def feature_scaling(x):\n",
    "    x_loc = x #.reshape(x.size,1)\n",
    "    return np.asarray((x_loc-np.mean(x_loc))/np.std(x_loc), dtype=float)"
   ]
  },
  {
   "cell_type": "code",
   "execution_count": 421,
   "metadata": {
    "collapsed": false
   },
   "outputs": [],
   "source": [
    "data = np.loadtxt('data-train.csv', delimiter=',', skiprows=1, converters={1:conver_time})\n",
    "#x = np.array((data[['ID', 'Timestamp', 'Location']]))\n",
    "x = data[:,:data.shape[1]-1].copy()\n",
    "n = x.shape[1]\n",
    "#x[:,1] = vconv_time(x[:,1])\n",
    "x[:,0] = feature_scaling(x[:,0])\n",
    "x[:,1] = feature_scaling(x[:,1])\n",
    "x[:,2] = feature_scaling(x[:,2])\n",
    "x = np.append(np.ones((m,1), float),x,axis=1)\n",
    "y = np.array(data[:,data.shape[1]-1], int)\n",
    "m = y.size\n",
    "y = y.reshape(m,1)\n",
    "theta_init = np.zeros((n+1,1))"
   ]
  },
  {
   "cell_type": "code",
   "execution_count": 449,
   "metadata": {
    "collapsed": false
   },
   "outputs": [
    {
     "data": {
      "image/png": "[encoded data removed]",
      "text/plain": [
       "<matplotlib.figure.Figure at 0x7f70e1319be0>"
      ]
     },
     "metadata": {},
     "output_type": "display_data"
    }
   ],
   "source": [
    "fig = plt.figure(figsize=[15,10])\n",
    "sample_size = 800\n",
    "plt.plot(x[np.where(y[:,0]==1)[0],2][:sample_size], x[np.where(y[:,0]==1)[0],3][:sample_size], 'yx')\n",
    "plt.plot(x[np.where(y[:,0]==0)[0],2][:sample_size], x[np.where(y[:,0]==0)[0],3][:sample_size], 'bo')\n",
    "plt.show()"
   ]
  },
  {
   "cell_type": "code",
   "execution_count": 438,
   "metadata": {
    "collapsed": false
   },
   "outputs": [
    {
     "data": {
      "text/plain": [
       "(130999,)"
      ]
     },
     "execution_count": 438,
     "metadata": {},
     "output_type": "execute_result"
    }
   ],
   "source": [
    "np.where(y[:,0]==1)[0].shape"
   ]
  },
  {
   "cell_type": "code",
   "execution_count": 279,
   "metadata": {
    "collapsed": true
   },
   "outputs": [],
   "source": [
    "def sigmoid_function(x, theta):\n",
    "    theta_loc = theta.reshape(theta.size,1)\n",
    "    return (1+np.e**-(x.dot(theta_loc)))**-1\n",
    "\n",
    "def cost_function(x,y,theta,lmbd):\n",
    "    m = y.size\n",
    "    n = theta.size\n",
    "    y_loc = y.reshape(m,1)\n",
    "    return (lmbd/2*(theta[1:].T.dot(theta[1:])).sum() - (y_loc*np.log(sigmoid_function(x, theta))).sum() - ((1-y_loc)*np.log(1e-10 + 1 - sigmoid_function(x, theta))).sum())/m\n",
    "\n",
    "def grad_function(x,y,theta,lmbd):\n",
    "    m = y.size\n",
    "    n = theta.size\n",
    "    y_loc = y.reshape(m,1)\n",
    "    grad = (x.T.dot(sigmoid_function(x,theta) - y) + lmbd*np.append(0,theta[1:].flatten()).reshape(n,1))/m\n",
    "    return grad"
   ]
  },
  {
   "cell_type": "code",
   "execution_count": 337,
   "metadata": {
    "collapsed": false
   },
   "outputs": [
    {
     "name": "stdout",
     "output_type": "stream",
     "text": [
      "Cost @ initital theta = 0.6931471804388154\n",
      "Grad @ initital theta = [[ 0.10564919]\n",
      " [ 0.0970041 ]\n",
      " [ 0.11027046]\n",
      " [ 0.19489609]]\n"
     ]
    }
   ],
   "source": [
    "print('Cost @ initital theta = {}'.format(cost_function(x,y,theta_init,0)))\n",
    "print('Grad @ initital theta = {}'.format(grad_function(x,y,theta_init,0)))"
   ]
  },
  {
   "cell_type": "code",
   "execution_count": 338,
   "metadata": {
    "collapsed": true
   },
   "outputs": [],
   "source": [
    "def grad_descent(cost_func, grad_func, x, y, theta_init, alpha, lmbd, epsilon, max_iters=1500):\n",
    "    n = theta_init.size\n",
    "    theta = theta_init.reshape(n,1)\n",
    "    p_cost = cost_func(x,y,theta,lmbd) + epsilon\n",
    "    for i in range(max_iters):\n",
    "        c_cost = cost_function(x,y,theta,lmbd)\n",
    "        if c_cost > p_cost - epsilon:\n",
    "            print('Convergence @ theta = {}'.format(theta))\n",
    "            print('Cost function value = {}'.format(c_cost))\n",
    "            return theta\n",
    "        grad = grad_function(x,y,theta,lmbd)\n",
    "        theta = theta - alpha*grad\n",
    "        \n",
    "    print('Failed to converge')\n",
    "    print('Current theta = {}'.format(theta))\n",
    "    print('Cost function value = {}'.format(c_cost))\n",
    "    return theta    "
   ]
  },
  {
   "cell_type": "code",
   "execution_count": 378,
   "metadata": {
    "collapsed": false
   },
   "outputs": [
    {
     "name": "stdout",
     "output_type": "stream",
     "text": [
      "Failed to converge\n",
      "Current theta = [[-0.53290658]\n",
      " [ 0.70338346]\n",
      " [-0.70282094]\n",
      " [-0.88336285]]\n",
      "Cost function value = 0.5848673601131027\n"
     ]
    }
   ],
   "source": [
    "theta_rslt = grad_descent(cost_function, grad_function, x, y, theta_init, 1, 10, 1e-20, max_iters=5000)"
   ]
  },
  {
   "cell_type": "code",
   "execution_count": 322,
   "metadata": {
    "collapsed": true
   },
   "outputs": [],
   "source": [
    "def predict(x,theta):\n",
    "#    theta_loc = theta.reshape(theta.size,1)\n",
    "    return np.array(sigmoid_function(x,theta) > .5, int)"
   ]
  },
  {
   "cell_type": "code",
   "execution_count": 385,
   "metadata": {
    "collapsed": false
   },
   "outputs": [],
   "source": [
    "data_test = np.loadtxt('data-test.csv', delimiter=',', skiprows=1, converters={2:conver_time})\n",
    "x_test = data_test.copy()\n",
    "m_test = x_test.shape[0]\n",
    "x_test[:,0] = feature_scaling(x_test[:,0])\n",
    "x_test[:,1] = feature_scaling(x_test[:,1])\n",
    "x_test[:,2] = feature_scaling(x_test[:,2])\n",
    "x_test = np.append(np.ones((m,1), float),x_test,axis=1)\n",
    "theta_test = theta_rslt.copy()\n",
    "bfr = theta_test[2].copy()\n",
    "theta_test[2] = theta_test[3].copy()\n",
    "theta_test[3] = bfr.copy()\n",
    "#y_test = np.array(data_test[:,data_test.shape[1]-1], int)\n",
    "#y_test = y_test.reshape(m_test,1)"
   ]
  },
  {
   "cell_type": "code",
   "execution_count": null,
   "metadata": {
    "collapsed": true
   },
   "outputs": [],
   "source": [
    "prd = predict(x_test, theta_test)\n",
    "submit_sample = np.asarray(np.append(data_test[:,0].reshape(m_test,1), prd, axis=1), dtype=int)\n",
    "np.savetxt('submission.csv', submit_sample, delimiter=',', fmt='%d', header='ID,Category', comments='')"
   ]
  }
 ],
 "metadata": {
  "kernelspec": {
   "display_name": "Python 3",
   "language": "python",
   "name": "python3"
  },
  "language_info": {
   "codemirror_mode": {
    "name": "ipython",
    "version": 3
   },
   "file_extension": ".py",
   "mimetype": "text/x-python",
   "name": "python",
   "nbconvert_exporter": "python",
   "pygments_lexer": "ipython3",
   "version": "3.6.0"
  }
 },
 "nbformat": 4,
 "nbformat_minor": 2
}
