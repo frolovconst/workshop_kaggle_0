{
 "cells": [
  {
   "cell_type": "code",
   "execution_count": 36,
   "metadata": {
    "collapsed": false
   },
   "outputs": [],
   "source": [
    "import numpy as np\n",
    "import pandas as pd\n",
    "import time as dt"
   ]
  },
  {
   "cell_type": "code",
   "execution_count": 126,
   "metadata": {
    "collapsed": true
   },
   "outputs": [],
   "source": [
    "def conver_time(timestr):\n",
    "    ts,ms = timestr.split('.')\n",
    "    timest = dt.strptime(ts, '%Y-%m-%d %H:%M:%S')\n",
    "    return int(1000*(dt.mktime(timest)+10800)+int(ms))\n",
    "vconv_time = np.vectorize(conver_time)"
   ]
  },
  {
   "cell_type": "code",
   "execution_count": 138,
   "metadata": {
    "collapsed": false
   },
   "outputs": [],
   "source": [
    "data = pd.read_csv('data-train.csv')\n",
    "x = np.array((data[['ID', 'Timestamp', 'Location']]))\n",
    "x[:,1] = vconv_time(x[:,1])\n",
    "y = np.array(data['Category'])\n",
    "n = x.shape[1]\n",
    "m = y.size"
   ]
  }
 ],
 "metadata": {
  "kernelspec": {
   "display_name": "Python 3",
   "language": "python",
   "name": "python3"
  },
  "language_info": {
   "codemirror_mode": {
    "name": "ipython",
    "version": 3
   },
   "file_extension": ".py",
   "mimetype": "text/x-python",
   "name": "python",
   "nbconvert_exporter": "python",
   "pygments_lexer": "ipython3",
   "version": "3.6.0"
  }
 },
 "nbformat": 4,
 "nbformat_minor": 2
}
