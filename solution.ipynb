{
 "cells": [
  {
   "cell_type": "code",
   "execution_count": 1,
   "metadata": {},
   "outputs": [],
   "source": [
    "import numpy as np\n",
    "import pandas as pd\n",
    "import time as dt"
   ]
  },
  {
   "cell_type": "code",
   "execution_count": 24,
   "metadata": {},
   "outputs": [],
   "source": [
    "def conver_time(timestr):\n",
    "    ts,ms = timestr.split('.')\n",
    "    timest = dt.strptime(ts, '%Y-%m-%d %H:%M:%S')\n",
    "    return int(1000*dt.mktime(timest) + int(ms))#+10800)+int(ms))\n",
    "vconv_time = np.vectorize(conver_time)"
   ]
  },
  {
   "cell_type": "code",
   "execution_count": 26,
   "metadata": {
    "collapsed": true
   },
   "outputs": [],
   "source": [
    "def feature_scaling(x):\n",
    "    x_loc = x #.reshape(x.size,1)\n",
    "    return (x_loc-np.mean(x_loc))/np.std(x_loc)"
   ]
  },
  {
   "cell_type": "code",
   "execution_count": 34,
   "metadata": {},
   "outputs": [],
   "source": [
    "data = pd.read_csv('data-train.csv')\n",
    "x = np.array((data[['ID', 'Timestamp', 'Location']]))\n",
    "x[:,1] = vconv_time(x[:,1])\n",
    "x[:,0] = feature_scaling(x[:,0])\n",
    "x[:,1] = feature_scaling(x[:,1])\n",
    "x[:,2] = feature_scaling(x[:,2])\n",
    "y = np.array(data['Category'])\n",
    "n = x.shape[1]\n",
    "m = y.size\n",
    "theta_init"
   ]
  },
  {
   "cell_type": "code",
   "execution_count": 36,
   "metadata": {
    "collapsed": true
   },
   "outputs": [],
   "source": [
    "def sigmoid_function(x, theta):\n",
    "    return (1+np.e**-(x.dot(theta)))**-1"
   ]
  },
  {
   "cell_type": "code",
   "execution_count": 38,
   "metadata": {},
   "outputs": [
    {
     "data": {
      "text/plain": [
       "array([[ 0.,  0.],\n",
       "       [ 1.,  0.],\n",
       "       [ 2.,  0.],\n",
       "       [ 3.,  0.],\n",
       "       [ 4.,  0.],\n",
       "       [ 5.,  0.]])"
      ]
     },
     "execution_count": 38,
     "metadata": {},
     "output_type": "execute_result"
    }
   ],
   "source": [
    "np.append(np.arange(6).reshape(6,1), np.zeros((6,1)), axis=1)"
   ]
  }
 ],
 "metadata": {
  "kernelspec": {
   "display_name": "Python 3",
   "language": "python",
   "name": "python3"
  },
  "language_info": {
   "codemirror_mode": {
    "name": "ipython",
    "version": 3
   },
   "file_extension": ".py",
   "mimetype": "text/x-python",
   "name": "python",
   "nbconvert_exporter": "python",
   "pygments_lexer": "ipython3",
   "version": "3.6.1"
  }
 },
 "nbformat": 4,
 "nbformat_minor": 2
}
