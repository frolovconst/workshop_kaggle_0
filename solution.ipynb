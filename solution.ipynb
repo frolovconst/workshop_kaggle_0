{
 "cells": [
  {
   "cell_type": "code",
   "execution_count": 5,
   "metadata": {
    "collapsed": true
   },
   "outputs": [],
   "source": [
    "import numpy as np\n",
    "import time as dt\n",
    "import matplotlib.pyplot as plt\n",
    "from sklearn import preprocessing\n",
    "import pandas as pd"
   ]
  },
  {
   "cell_type": "code",
   "execution_count": 6,
   "metadata": {
    "collapsed": true
   },
   "outputs": [],
   "source": [
    "def conver_time(timestr):\n",
    "    timestr = timestr.decode(\"utf-8\") \n",
    "    ts,ms = timestr.split('.')\n",
    "    timest = dt.strptime(ts, '%Y-%m-%d %H:%M:%S')\n",
    "    return int(1000*dt.mktime(timest) + int(ms))#+10800)+int(ms))"
   ]
  },
  {
   "cell_type": "code",
   "execution_count": 7,
   "metadata": {
    "collapsed": true
   },
   "outputs": [],
   "source": [
    "def feature_scaling(x):\n",
    "    x_loc = x #.reshape(x.size,1)\n",
    "    return np.asarray((x_loc-np.mean(x_loc))/np.std(x_loc), dtype=float)"
   ]
  },
  {
   "cell_type": "code",
   "execution_count": 158,
   "metadata": {},
   "outputs": [],
   "source": [
    "data = np.loadtxt('data-train.csv', delimiter=',', skiprows=1, converters={1:conver_time})\n",
    "#x = np.array((data[['ID', 'Timestamp', 'Location']]))\n",
    "x = data[:,:data.shape[1]-1].copy()\n",
    "n = x.shape[1]\n",
    "#x[:,1] = vconv_time(x[:,1])\n",
    "x[:,0] = feature_scaling(x[:,0])\n",
    "x[:,1] = feature_scaling(x[:,1])\n",
    "x[:,2] = feature_scaling(x[:,2])\n",
    "y = np.array(data[:,data.shape[1]-1], int)\n",
    "m = y.size\n",
    "x = np.append(np.ones((m,1), float),x,axis=1)\n",
    "y = y.reshape(m,1)\n",
    "theta_init = np.zeros((n+1,1))"
   ]
  },
  {
   "cell_type": "code",
   "execution_count": 161,
   "metadata": {},
   "outputs": [],
   "source": [
    "# One hot encoding attempt for late submission\n",
    "data_onehot = pd.read_csv('data-train.csv', sep=',', parse_dates=[1])\n",
    "#data_onehot = data_onehot.append({'ID': 343665,\n",
    "#                   'Timestamp': '2016-03-30 12:18:52.537',\n",
    "#                   'Location': 9,\n",
    "#                   'Category': 1},\n",
    "#                  ignore_index=True)\n",
    "#data_onehot = data_onehot.append({'ID': 343666,\n",
    "#                   'Timestamp': '2016-03-30 12:18:52.537',\n",
    "#                   'Location': 11,\n",
    "#                   'Category': 1},\n",
    "#                  ignore_index=True)\n",
    "#y_imputated = y.copy()\n",
    "#y_imputated = np.append(y_imputated, np.ones((2,1)), axis=0)\n",
    "new_df = pd.DataFrame({'Year' : data_onehot.Timestamp.dt.year,\n",
    "                       'Month' : data_onehot.Timestamp.dt.month,\n",
    "                       'Day' : data_onehot.Timestamp.dt.day,\n",
    "                       'Hour' : data_onehot.Timestamp.dt.hour,\n",
    "                        'DoW' : data_onehot.Timestamp.dt.dayofweek,\n",
    "#                       'Minute' : data_onehot.Timestamp.dt.minute,\n",
    "#                       'Second' : data_onehot.Timestamp.dt.second,\n",
    "    'Location':data_onehot['Location']})\n",
    "\n",
    "new_df = new_df[['Year', 'Month', 'Day', 'Hour', 'DoW', 'Location']]\n",
    "encoder = preprocessing.OneHotEncoder()\n",
    "ttest = encoder.fit_transform(new_df)\n",
    "x_onehot = ttest.toarray()\n",
    "x_onehot = np.insert(x_onehot, 0, 1, axis=1)\n",
    "theta_init_onehot = np.zeros((80,1))"
   ]
  },
  {
   "cell_type": "code",
   "execution_count": 147,
   "metadata": {},
   "outputs": [
    {
     "data": {
      "image/png": "[encoded data removed]",
      "text/plain": [
       "<matplotlib.figure.Figure at 0x7f8da9415240>"
      ]
     },
     "metadata": {},
     "output_type": "display_data"
    }
   ],
   "source": [
    "fig = plt.figure(figsize=[5,5])\n",
    "sample_size = 800\n",
    "plt.plot(x[np.where(y[:,0]==0)[0],2][:sample_size], x[np.where(y[:,0]==0)[0],3][:sample_size], 'wo', markeredgecolor='b')\n",
    "plt.plot(x[np.where(y[:,0]==1)[0],2][:sample_size], x[np.where(y[:,0]==1)[0],3][:sample_size], 'yx')\n",
    "plt.show()"
   ]
  },
  {
   "cell_type": "code",
   "execution_count": 56,
   "metadata": {
    "collapsed": true
   },
   "outputs": [],
   "source": [
    "def sigmoid_function(x, theta):\n",
    "    theta_loc = theta.reshape(theta.size,1)\n",
    "    return (1+np.e**-(x.dot(theta_loc)))**-1\n",
    "\n",
    "def cost_function(x,y,theta,lmbd):\n",
    "    m = y.size\n",
    "    n = theta.size\n",
    "    y_loc = y.reshape(m,1)\n",
    "    return (lmbd/2*(theta[1:].T.dot(theta[1:])).sum() - (y_loc*np.log(sigmoid_function(x, theta))).sum() - ((1-y_loc)*np.log(1e-10 + 1 - sigmoid_function(x, theta))).sum())/m\n",
    "\n",
    "def grad_function(x,y,theta,lmbd):\n",
    "    m = y.size\n",
    "    n = theta.size\n",
    "    y_loc = y.reshape(m,1)\n",
    "    grad = (x.T.dot(sigmoid_function(x,theta) - y) + lmbd*np.append(0,theta[1:].flatten()).reshape(n,1))/m\n",
    "    return grad"
   ]
  },
  {
   "cell_type": "code",
   "execution_count": 57,
   "metadata": {},
   "outputs": [
    {
     "name": "stdout",
     "output_type": "stream",
     "text": [
      "Cost @ initital theta = 0.6931471804388162\n",
      "Grad @ initital theta = [[ 0.10564555]\n",
      " [ 0.09699671]\n",
      " [ 0.11027492]\n",
      " [ 0.19488575]]\n"
     ]
    }
   ],
   "source": [
    "print('Cost @ initital theta = {}'.format(cost_function(x,y,theta_init,0)))\n",
    "print('Grad @ initital theta = {}'.format(grad_function(x,y,theta_init,0)))"
   ]
  },
  {
   "cell_type": "code",
   "execution_count": 58,
   "metadata": {
    "collapsed": true
   },
   "outputs": [],
   "source": [
    "def grad_descent(cost_func, grad_func, x, y, theta_init, alpha, lmbd, epsilon, max_iters=1500):\n",
    "    n = theta_init.size\n",
    "    theta = theta_init.reshape(n,1)\n",
    "    p_cost = cost_func(x,y,theta,lmbd) + epsilon\n",
    "    for i in range(max_iters):\n",
    "        c_cost = cost_function(x,y,theta,lmbd)\n",
    "        if c_cost > p_cost - epsilon:\n",
    "            print('Convergence @ theta = {}'.format(theta))\n",
    "            print('Cost function value = {}'.format(c_cost))\n",
    "            return theta\n",
    "        grad = grad_function(x,y,theta,lmbd)\n",
    "        theta = theta - alpha*grad\n",
    "        \n",
    "    print('Failed to converge')\n",
    "    print('Current theta = {}'.format(theta))\n",
    "    print('Cost function value = {}'.format(c_cost))\n",
    "    return theta    "
   ]
  },
  {
   "cell_type": "code",
   "execution_count": 72,
   "metadata": {},
   "outputs": [
    {
     "name": "stdout",
     "output_type": "stream",
     "text": [
      "Failed to converge\n",
      "Current theta = [[ -1.09236966e+00]\n",
      " [ -1.00732707e+00]\n",
      " [ -4.74603298e-02]\n",
      " [ -5.73858423e-01]\n",
      " [  3.05726062e-02]\n",
      " [ -2.63716248e-01]\n",
      " [  2.19876896e-01]\n",
      " [  3.70971875e-02]\n",
      " [ -1.74680643e+00]\n",
      " [ -2.57448245e+00]\n",
      " [ -4.66144814e-01]\n",
      " [  1.32231273e+00]\n",
      " [  1.25491664e+00]\n",
      " [  9.65707513e-01]\n",
      " [  7.39737388e-01]\n",
      " [ -3.77767064e-01]\n",
      " [ -2.35701520e-01]\n",
      " [ -2.59464752e-01]\n",
      " [ -2.23830625e-01]\n",
      " [ -2.58291829e-01]\n",
      " [ -9.90550060e-02]\n",
      " [ -1.01454375e-01]\n",
      " [ -1.34010911e-01]\n",
      " [ -2.77151515e-01]\n",
      " [ -1.83639392e-01]\n",
      " [ -2.38296260e-01]\n",
      " [ -2.10593641e-01]\n",
      " [ -1.81739817e-01]\n",
      " [ -1.94083049e-01]\n",
      " [ -2.28039258e-03]\n",
      " [ -4.00516452e-02]\n",
      " [  1.09494710e-01]\n",
      " [  1.05424135e-01]\n",
      " [  4.28645539e-02]\n",
      " [  5.32412066e-02]\n",
      " [  4.78495847e-02]\n",
      " [  3.82818065e-01]\n",
      " [  2.55544946e-01]\n",
      " [  4.81088365e-02]\n",
      " [ -5.48136248e-02]\n",
      " [ -6.87090161e-03]\n",
      " [  1.87895121e-01]\n",
      " [  1.08454952e-01]\n",
      " [  2.76609524e-01]\n",
      " [  1.27737874e-01]\n",
      " [  2.78265412e-01]\n",
      " [  1.69422205e-01]\n",
      " [  2.04437247e-01]\n",
      " [  1.64399200e-01]\n",
      " [  2.01375496e-01]\n",
      " [  1.59316844e-01]\n",
      " [  1.25341027e-01]\n",
      " [  1.84606470e-01]\n",
      " [  8.47939551e-02]\n",
      " [  9.08615511e-02]\n",
      " [  1.43003067e-01]\n",
      " [  1.65052020e-02]\n",
      " [  1.25584356e-01]\n",
      " [  1.32712191e-01]\n",
      " [  9.94272917e-02]\n",
      " [  5.55685601e-02]\n",
      " [  1.22449448e-01]\n",
      " [  1.36634380e-02]\n",
      " [  1.54075203e-03]\n",
      " [  4.14684250e-02]\n",
      " [ -1.01823774e-02]\n",
      " [  1.33706320e-02]\n",
      " [ -2.56470386e-02]\n",
      " [ -3.72769405e-02]\n",
      " [  2.98447087e-02]\n",
      " [ -2.01768370e-02]\n",
      " [ -3.05457670e-02]\n",
      " [ -5.05100923e-02]\n",
      " [ -1.78332123e-01]\n",
      " [ -1.39791129e-01]\n",
      " [ -1.31166791e-01]\n",
      " [ -1.39846147e-01]\n",
      " [ -1.24496086e-01]\n",
      " [ -8.80933262e-02]\n",
      " [ -1.98680138e-01]\n",
      " [ -1.18657119e-01]\n",
      " [ -1.37038105e-01]\n",
      " [ -1.46960691e-01]\n",
      " [ -1.25893369e-01]\n",
      " [ -1.48771325e-01]\n",
      " [ -1.66904711e-01]\n",
      " [ -1.64228376e-01]\n",
      " [ -1.73607149e-01]\n",
      " [ -1.59138079e-01]\n",
      " [ -2.39607525e-01]\n",
      " [ -2.32405904e-01]\n",
      " [ -1.73701204e-01]\n",
      " [ -9.55809654e-02]\n",
      " [ -6.48725014e-02]\n",
      " [ -4.12231940e-02]\n",
      " [ -5.48515160e-02]\n",
      " [ -5.03114706e-02]\n",
      " [  1.20354547e-02]\n",
      " [  8.43633289e-03]\n",
      " [ -1.05412114e-01]\n",
      " [ -4.09893324e-02]\n",
      " [  2.74165026e-03]\n",
      " [  2.88069589e-02]\n",
      " [  2.83271215e-02]\n",
      " [  1.61537623e-01]\n",
      " [  1.38534833e-01]\n",
      " [ -3.51261332e-02]\n",
      " [ -1.52359115e-02]\n",
      " [  5.68505693e-02]\n",
      " [ -1.01995339e-02]\n",
      " [ -7.49497432e-02]\n",
      " [ -1.68476070e-02]\n",
      " [  1.05604886e-02]\n",
      " [ -3.21145412e-02]\n",
      " [ -2.40154823e-02]\n",
      " [ -5.93081386e-02]\n",
      " [  1.07580795e-02]\n",
      " [  3.63959997e-02]\n",
      " [  3.17152969e-02]\n",
      " [ -2.37952034e-02]\n",
      " [  1.04682084e-02]\n",
      " [ -5.33272273e-03]\n",
      " [  4.26505598e-03]\n",
      " [ -3.73347443e-02]\n",
      " [  8.03595005e-03]\n",
      " [  8.29599881e-02]\n",
      " [  4.05369125e-03]\n",
      " [ -3.32812466e-02]\n",
      " [  4.17372952e-02]\n",
      " [  4.85528418e-03]\n",
      " [  3.18076501e-02]\n",
      " [ -4.65567044e-02]\n",
      " [ -1.91277168e-02]\n",
      " [ -4.16731779e-02]\n",
      " [ -7.08587502e-02]\n",
      " [ -1.24421441e-02]\n",
      " [ -5.85133858e-02]\n",
      " [ -3.57016339e-02]\n",
      " [  7.77778733e-03]\n",
      " [  1.67896025e-03]\n",
      " [ -1.08074246e-02]\n",
      " [ -4.79213568e-03]\n",
      " [ -3.18265875e-02]\n",
      " [ -5.08204055e-02]\n",
      " [ -8.36611269e-02]\n",
      " [ -3.89831070e-02]\n",
      " [ -6.41137549e-02]\n",
      " [ -4.89383292e-03]\n",
      " [ -4.78835696e-02]\n",
      " [ -1.69717457e-02]\n",
      " [ -5.45617402e-02]\n",
      " [  2.33330500e-02]\n",
      " [ -5.33185275e-03]\n",
      " [ -5.38615802e-02]\n",
      " [ -3.94324846e-02]\n",
      " [ -3.55803808e-02]\n",
      " [ -3.02153859e-03]\n",
      " [ -3.89631763e-03]\n",
      " [ -7.24625172e-03]\n",
      " [ -3.24594493e-03]\n",
      " [ -4.25603601e-02]\n",
      " [ -8.11919834e-02]\n",
      " [ -6.34219485e-02]\n",
      " [  1.24098943e-02]\n",
      " [  2.88531939e-03]\n",
      " [ -3.68153751e-02]\n",
      " [  1.86795505e+00]\n",
      " [  2.69721627e+00]\n",
      " [ -2.30243941e+00]\n",
      " [  1.56322390e+00]\n",
      " [ -4.88074321e+00]]\n",
      "Cost function value = 0.3980673159841738\n"
     ]
    }
   ],
   "source": [
    "theta_rslt = grad_descent(cost_function, grad_function, x_onehot, y, theta_init_onehot, 1, 10, 1e-20, max_iters=1500)"
   ]
  },
  {
   "cell_type": "code",
   "execution_count": 153,
   "metadata": {},
   "outputs": [
    {
     "data": {
      "image/png": "[encoded data removed]",
      "text/plain": [
       "<matplotlib.figure.Figure at 0x7f8da7b08ba8>"
      ]
     },
     "metadata": {},
     "output_type": "display_data"
    }
   ],
   "source": [
    "fig = plt.figure(figsize=[5,5])\n",
    "sample_size = 800\n",
    "plt.plot(x[np.where(y[:,0]==0)[0],2][:sample_size], x[np.where(y[:,0]==0)[0],3][:sample_size], 'wo', markeredgecolor='b')\n",
    "plt.plot(x[np.where(y[:,0]==1)[0],2][:sample_size], x[np.where(y[:,0]==1)[0],3][:sample_size], 'yx')\n",
    "plt.plot(np.linspace(-2,2,100), (np.linspace(-2,2,100)*-.8834--.534)/-.7028)\n",
    "plt.show()"
   ]
  },
  {
   "cell_type": "code",
   "execution_count": 59,
   "metadata": {
    "collapsed": true
   },
   "outputs": [],
   "source": [
    "def predict(x,theta):\n",
    "#    theta_loc = theta.reshape(theta.size,1)\n",
    "    return np.array(sigmoid_function(x,theta) > .5, int)"
   ]
  },
  {
   "cell_type": "code",
   "execution_count": 62,
   "metadata": {
    "collapsed": true
   },
   "outputs": [],
   "source": [
    "data_test = np.loadtxt('data-test.csv', delimiter=',', skiprows=1, converters={2:conver_time})\n",
    "x_test = data_test.copy()\n",
    "m_test = x_test.shape[0]\n",
    "x_test[:,0] = feature_scaling(x_test[:,0])\n",
    "x_test[:,1] = feature_scaling(x_test[:,1])\n",
    "x_test[:,2] = feature_scaling(x_test[:,2])\n",
    "x_test = np.append(np.ones((m_test,1), float),x_test,axis=1)"
   ]
  },
  {
   "cell_type": "code",
   "execution_count": 61,
   "metadata": {},
   "outputs": [
    {
     "ename": "NameError",
     "evalue": "name 'theta_rslt' is not defined",
     "output_type": "error",
     "traceback": [
      "\u001b[0;31m---------------------------------------------------------------------------\u001b[0m",
      "\u001b[0;31mNameError\u001b[0m                                 Traceback (most recent call last)",
      "\u001b[0;32m<ipython-input-61-e280995e7cff>\u001b[0m in \u001b[0;36m<module>\u001b[0;34m()\u001b[0m\n\u001b[1;32m      6\u001b[0m \u001b[0mx_test\u001b[0m\u001b[0;34m[\u001b[0m\u001b[0;34m:\u001b[0m\u001b[0;34m,\u001b[0m\u001b[0;36m2\u001b[0m\u001b[0;34m]\u001b[0m \u001b[0;34m=\u001b[0m \u001b[0mfeature_scaling\u001b[0m\u001b[0;34m(\u001b[0m\u001b[0mx_test\u001b[0m\u001b[0;34m[\u001b[0m\u001b[0;34m:\u001b[0m\u001b[0;34m,\u001b[0m\u001b[0;36m2\u001b[0m\u001b[0;34m]\u001b[0m\u001b[0;34m)\u001b[0m\u001b[0;34m\u001b[0m\u001b[0m\n\u001b[1;32m      7\u001b[0m \u001b[0mx_test\u001b[0m \u001b[0;34m=\u001b[0m \u001b[0mnp\u001b[0m\u001b[0;34m.\u001b[0m\u001b[0mappend\u001b[0m\u001b[0;34m(\u001b[0m\u001b[0mnp\u001b[0m\u001b[0;34m.\u001b[0m\u001b[0mones\u001b[0m\u001b[0;34m(\u001b[0m\u001b[0;34m(\u001b[0m\u001b[0mm_test\u001b[0m\u001b[0;34m,\u001b[0m\u001b[0;36m1\u001b[0m\u001b[0;34m)\u001b[0m\u001b[0;34m,\u001b[0m \u001b[0mfloat\u001b[0m\u001b[0;34m)\u001b[0m\u001b[0;34m,\u001b[0m\u001b[0mx_test\u001b[0m\u001b[0;34m,\u001b[0m\u001b[0maxis\u001b[0m\u001b[0;34m=\u001b[0m\u001b[0;36m1\u001b[0m\u001b[0;34m)\u001b[0m\u001b[0;34m\u001b[0m\u001b[0m\n\u001b[0;32m----> 8\u001b[0;31m \u001b[0mtheta_test\u001b[0m \u001b[0;34m=\u001b[0m \u001b[0mtheta_rslt\u001b[0m\u001b[0;34m.\u001b[0m\u001b[0mcopy\u001b[0m\u001b[0;34m(\u001b[0m\u001b[0;34m)\u001b[0m\u001b[0;34m\u001b[0m\u001b[0m\n\u001b[0m\u001b[1;32m      9\u001b[0m \u001b[0mbfr\u001b[0m \u001b[0;34m=\u001b[0m \u001b[0mtheta_test\u001b[0m\u001b[0;34m[\u001b[0m\u001b[0;36m2\u001b[0m\u001b[0;34m]\u001b[0m\u001b[0;34m.\u001b[0m\u001b[0mcopy\u001b[0m\u001b[0;34m(\u001b[0m\u001b[0;34m)\u001b[0m\u001b[0;34m\u001b[0m\u001b[0m\n\u001b[1;32m     10\u001b[0m \u001b[0mtheta_test\u001b[0m\u001b[0;34m[\u001b[0m\u001b[0;36m2\u001b[0m\u001b[0;34m]\u001b[0m \u001b[0;34m=\u001b[0m \u001b[0mtheta_test\u001b[0m\u001b[0;34m[\u001b[0m\u001b[0;36m3\u001b[0m\u001b[0;34m]\u001b[0m\u001b[0;34m.\u001b[0m\u001b[0mcopy\u001b[0m\u001b[0;34m(\u001b[0m\u001b[0;34m)\u001b[0m\u001b[0;34m\u001b[0m\u001b[0m\n",
      "\u001b[0;31mNameError\u001b[0m: name 'theta_rslt' is not defined"
     ]
    }
   ],
   "source": [
    "theta_test = theta_rslt.copy()\n",
    "bfr = theta_test[2].copy()\n",
    "theta_test[2] = theta_test[3].copy()\n",
    "theta_test[3] = bfr.copy()\n",
    "#y_test = np.array(data_test[:,data_test.shape[1]-1], int)\n",
    "#y_test = y_test.reshape(m_test,1)"
   ]
  },
  {
   "cell_type": "code",
   "execution_count": null,
   "metadata": {
    "collapsed": true
   },
   "outputs": [],
   "source": [
    "prd = predict(x_test, theta_test)\n",
    "submit_sample = np.asarray(np.append(data_test[:,0].reshape(m_test,1), prd, axis=1), dtype=int)\n",
    "np.savetxt('submission.csv', submit_sample, delimiter=',', fmt='%d', header='ID,Category', comments='')"
   ]
  },
  {
   "cell_type": "code",
   "execution_count": 166,
   "metadata": {},
   "outputs": [
    {
     "name": "stdout",
     "output_type": "stream",
     "text": [
      "Failed to converge\n",
      "Current theta = [[ -1.06308623e+00]\n",
      " [ -9.89999887e-01]\n",
      " [ -3.68606374e-02]\n",
      " [ -5.67007605e-01]\n",
      " [  4.97212874e-02]\n",
      " [ -2.46288009e-01]\n",
      " [  2.52691618e-01]\n",
      " [  7.61899863e-02]\n",
      " [ -1.70334512e+00]\n",
      " [ -2.71339079e+00]\n",
      " [ -4.88602458e-01]\n",
      " [  1.34369668e+00]\n",
      " [  1.23107140e+00]\n",
      " [  9.66170853e-01]\n",
      " [  7.72231641e-01]\n",
      " [ -4.01132568e-01]\n",
      " [ -2.50904075e-01]\n",
      " [ -2.85933915e-01]\n",
      " [ -2.00710222e-01]\n",
      " [ -2.46998861e-01]\n",
      " [ -1.17459941e-01]\n",
      " [ -1.10737506e-01]\n",
      " [ -1.59164555e-01]\n",
      " [ -2.55279954e-01]\n",
      " [ -1.82400588e-01]\n",
      " [ -2.10251692e-01]\n",
      " [ -1.96349620e-01]\n",
      " [ -1.74813632e-01]\n",
      " [ -2.35671266e-01]\n",
      " [ -7.69771160e-03]\n",
      " [ -2.92755369e-02]\n",
      " [  1.15536662e-01]\n",
      " [  1.24013674e-01]\n",
      " [  7.40545717e-02]\n",
      " [  7.70442825e-02]\n",
      " [  5.44996568e-02]\n",
      " [  4.09451951e-01]\n",
      " [  2.31862559e-01]\n",
      " [  8.16567867e-02]\n",
      " [ -2.82503558e-02]\n",
      " [ -7.68732821e-03]\n",
      " [  1.89433594e-01]\n",
      " [  6.05930931e-02]\n",
      " [  2.79176008e-01]\n",
      " [  1.08741460e-01]\n",
      " [  2.67794505e-01]\n",
      " [  3.86057173e-03]\n",
      " [  3.84532522e-03]\n",
      " [ -6.58860949e-02]\n",
      " [ -1.15893730e+00]\n",
      " [ -2.84352338e-02]\n",
      " [  1.51809092e-01]\n",
      " [ -6.05418371e-02]\n",
      " [  8.52478824e-01]\n",
      " [  2.19975599e-03]\n",
      " [ -5.94487856e-01]\n",
      " [ -5.05696453e-01]\n",
      " [ -9.44619048e-01]\n",
      " [ -4.55958343e-02]\n",
      " [  1.42733853e+00]\n",
      " [  7.16875225e-01]\n",
      " [  1.81891393e-02]\n",
      " [ -5.33042564e-01]\n",
      " [ -2.54265515e-01]\n",
      " [ -1.56761716e-02]\n",
      " [  3.72691855e-03]\n",
      " [ -6.07231252e-02]\n",
      " [ -1.05619200e-01]\n",
      " [ -1.41290442e-01]\n",
      " [ -1.70394316e-01]\n",
      " [ -3.33655916e-01]\n",
      " [ -2.37032053e-01]\n",
      " [  2.18545283e-02]\n",
      " [  1.86544129e+00]\n",
      " [  2.72444312e+00]\n",
      " [ -2.11820145e+00]\n",
      " [  1.51385682e+00]\n",
      " [ -5.02030433e+00]\n",
      " [  4.05869843e-03]\n",
      " [  3.84532522e-03]]\n",
      "Cost function value = 0.3759486511433757\n"
     ]
    }
   ],
   "source": [
    "# For late submission\n",
    "theta_onehot = grad_descent(cost_function, grad_function, x_onehot, y, theta_init_onehot, 1, 10, 1e-20)"
   ]
  },
  {
   "cell_type": "code",
   "execution_count": 162,
   "metadata": {
    "collapsed": true
   },
   "outputs": [],
   "source": [
    "# Late submission test set\n",
    "data_onehot_test = pd.read_csv('data-test.csv', sep=',', parse_dates=[2])\n",
    "new_df_test = pd.DataFrame({'Year' : data_onehot_test.Timestamp.dt.year,\n",
    "                       'Month' : data_onehot_test.Timestamp.dt.month,\n",
    "                       'Day' : data_onehot_test.Timestamp.dt.day,\n",
    "                       'Hour' : data_onehot_test.Timestamp.dt.hour,\n",
    "                        'DoW' : data_onehot_test.Timestamp.dt.dayofweek,\n",
    "#                       'Minute' : data_onehot_test.Timestamp.dt.minute,\n",
    "#                       'Second' : data_onehot_test.Timestamp.dt.second,\n",
    "    'Location':data_onehot_test['Location']})\n",
    "\n",
    "new_df_test = new_df_test[['Year', 'Month', 'Day', 'Hour', 'DoW', 'Location']]\n",
    "ttest_test = encoder.fit_transform(new_df_test)\n",
    "x_onehot_test = ttest_test.toarray()\n",
    "x_onehot_test = np.insert(x_onehot_test, 0, 1, axis=1)"
   ]
  },
  {
   "cell_type": "code",
   "execution_count": 165,
   "metadata": {},
   "outputs": [
    {
     "data": {
      "text/plain": [
       "(332191, 80)"
      ]
     },
     "execution_count": 165,
     "metadata": {},
     "output_type": "execute_result"
    }
   ],
   "source": [
    "x_onehot.shape"
   ]
  },
  {
   "cell_type": "code",
   "execution_count": 167,
   "metadata": {
    "collapsed": true
   },
   "outputs": [],
   "source": [
    "# Two new locations appeared in test set - adding empty weights for them\n",
    "#theta_onehot_test = np.append(theta_onehot,np.zeros((1,1)),axis=0)\n",
    "#theta_onehot_test = np.append(theta_onehot_test,np.zeros((1,1)),axis=0)\n",
    "\n",
    "test_prd = predict(x_onehot_test,theta_onehot)"
   ]
  },
  {
   "cell_type": "code",
   "execution_count": 169,
   "metadata": {},
   "outputs": [
    {
     "data": {
      "text/plain": [
       "(332189, 3)"
      ]
     },
     "execution_count": 169,
     "metadata": {},
     "output_type": "execute_result"
    }
   ],
   "source": [
    "data_test.shape"
   ]
  },
  {
   "cell_type": "code",
   "execution_count": 170,
   "metadata": {
    "collapsed": true
   },
   "outputs": [],
   "source": [
    "#Filling prediction rows with new locations (not encountered in training set) with random values\n",
    "#test_prd[np.where((data_onehot_test.Location==9) | (data_onehot_test.Location==11))] = np.random.randint(2,size=10124).reshape(10124,1)\n",
    "\n",
    "submit_sample = np.asarray(np.append(data_test[:,0].reshape(m_test,1), test_prd, axis=1), dtype=int)\n",
    "np.savetxt('submission.csv', submit_sample, delimiter=',', fmt='%d', header='ID,Category', comments='')"
   ]
  }
 ],
 "metadata": {
  "kernelspec": {
   "display_name": "Python 3",
   "language": "python",
   "name": "python3"
  },
  "language_info": {
   "codemirror_mode": {
    "name": "ipython",
    "version": 3
   },
   "file_extension": ".py",
   "mimetype": "text/x-python",
   "name": "python",
   "nbconvert_exporter": "python",
   "pygments_lexer": "ipython3",
   "version": "3.6.1"
  }
 },
 "nbformat": 4,
 "nbformat_minor": 2
}
